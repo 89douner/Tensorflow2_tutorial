{
 "nbformat": 4,
 "nbformat_minor": 2,
 "metadata": {
  "language_info": {
   "name": "python",
   "codemirror_mode": {
    "name": "ipython",
    "version": 3
   }
  },
  "orig_nbformat": 2,
  "file_extension": ".py",
  "mimetype": "text/x-python",
  "name": "python",
  "npconvert_exporter": "python",
  "pygments_lexer": "ipython3",
  "version": 3,
  "kernelspec": {
   "name": "python37664bittensorflow2condadc9141db0871496583b65a75ccf00498",
   "display_name": "Python 3.7.6 64-bit ('tensorflow2': conda)"
  }
 },
 "cells": [
  {
   "cell_type": "code",
   "execution_count": 1,
   "metadata": {},
   "outputs": [],
   "source": [
    "import tensorflow as tf"
   ]
  },
  {
   "cell_type": "markdown",
   "metadata": {},
   "source": [
    "# Tensor 생성방법 <br>\n",
    "Tensor를 생성하는 대부분 방법은 numpy 패키지에서 차용한 개념이기 때문에, numpy를 생성하는 함수와 유사한걸 볼 수 있다.\n",
    "\n",
    "\n",
    "<br><br>\n",
    "\n",
    "## Tensor를 생성하는 기본적인 방법에 대해서 배워보자."
   ]
  },
  {
   "cell_type": "markdown",
   "metadata": {},
   "source": [
    "* 상수값을 갖는 tensor 생성\n",
    "    * tf.constant\n",
    "    * tf.zeros\n",
    "    * tf.ones\n",
    "    * tf.fill"
   ]
  },
  {
   "cell_type": "markdown",
   "metadata": {},
   "source": [
    "<br>\n",
    "\n",
    "### Case1. tf.constant"
   ]
  },
  {
   "cell_type": "code",
   "execution_count": 31,
   "metadata": {},
   "outputs": [
    {
     "data": {
      "text/plain": "<tf.Tensor: shape=(2,), dtype=float32, numpy=array([2.3, 3. ], dtype=float32)>"
     },
     "execution_count": 31,
     "metadata": {},
     "output_type": "execute_result"
    }
   ],
   "source": [
    "# 지정된 값을 갖는 텐서를 생성\n",
    "a = tf.constant([2.3,3])\n",
    "a"
   ]
  },
  {
   "cell_type": "markdown",
   "metadata": {},
   "source": [
    "<br>\n",
    "\n",
    "### Case2. tf.zeros"
   ]
  },
  {
   "cell_type": "code",
   "execution_count": 18,
   "metadata": {},
   "outputs": [
    {
     "data": {
      "text/plain": "<tf.Tensor: shape=(2, 3), dtype=float32, numpy=\narray([[0., 0., 0.],\n       [0., 0., 0.]], dtype=float32)>"
     },
     "execution_count": 18,
     "metadata": {},
     "output_type": "execute_result"
    }
   ],
   "source": [
    "# 모든 값을 0으로 초기화한 텐서를 생성\n",
    "b = tf.zeros([2,3])\n",
    "b"
   ]
  },
  {
   "cell_type": "code",
   "execution_count": 20,
   "metadata": {},
   "outputs": [
    {
     "data": {
      "text/plain": "<tf.Tensor: shape=(2,), dtype=float32, numpy=array([0., 0.], dtype=float32)>"
     },
     "execution_count": 20,
     "metadata": {},
     "output_type": "execute_result"
    }
   ],
   "source": [
    "# 모든 값을 1로 초기화한 텐서를 생성\n",
    "c = tf.zeros([2])\n",
    "c\n"
   ]
  },
  {
   "cell_type": "markdown",
   "metadata": {},
   "source": [
    "<br>\n",
    "\n",
    "### Case3. tf.fill"
   ]
  },
  {
   "cell_type": "code",
   "execution_count": 28,
   "metadata": {},
   "outputs": [
    {
     "data": {
      "text/plain": "<tf.Tensor: shape=(2, 3), dtype=int32, numpy=\narray([[4, 4, 4],\n       [4, 4, 4]])>"
     },
     "execution_count": 28,
     "metadata": {},
     "output_type": "execute_result"
    }
   ],
   "source": [
    "# 모든 값을 'value'값으로 초기화한 텐서를 생성\n",
    "d = tf.fill([2,3],4) #tf.fill(dims=[2,3],value=4)\n",
    "d"
   ]
  },
  {
   "cell_type": "markdown",
   "metadata": {},
   "source": [
    "<br><br><br>\n",
    "* 난수값을 갖는 tensor 생성\n",
    "    * tf.random_normal\n",
    "    * tf.random_unifrom\n",
    "\n",
    "<br>\n",
    "<a href=\"https://www.tensorflow.org/api_docs/python/tf/random/\">radom 속성 API 링크</a>"
   ]
  },
  {
   "cell_type": "markdown",
   "metadata": {},
   "source": [
    "<br>\n",
    "\n",
    "### Case1. tf.random.normal"
   ]
  },
  {
   "cell_type": "code",
   "execution_count": 38,
   "metadata": {},
   "outputs": [
    {
     "data": {
      "text/plain": "<tf.Tensor: shape=(2, 3), dtype=float32, numpy=\narray([[2.0722637, 2.158355 , 2.227394 ],\n       [2.1465344, 1.9708643, 2.0902605]], dtype=float32)>"
     },
     "execution_count": 38,
     "metadata": {},
     "output_type": "execute_result"
    }
   ],
   "source": [
    "# 정규분포를 따르는 난수 생성\n",
    "# 평균근처의 값들이 난수로 생성될 확률이 높다\n",
    "a = tf.random.normal([2], mean=-1, stddev=4)\n",
    "b = tf.random.normal([2,3], mean=2, stddev=0.1)\n",
    "a\n",
    "b"
   ]
  },
  {
   "cell_type": "markdown",
   "metadata": {},
   "source": [
    "<img src=\"figure/chapter2/1.png\" width=\"400\" height=\"300\">\n",
    "<br>\n",
    "<a href=\"https://needjarvis.tistory.com/66\">figure1. normal distribution (정규분포표)</a>"
   ]
  },
  {
   "cell_type": "markdown",
   "metadata": {},
   "source": [
    "<br>\n",
    "\n",
    "### Case2. tf.random.uniform"
   ]
  },
  {
   "cell_type": "code",
   "execution_count": 41,
   "metadata": {},
   "outputs": [
    {
     "data": {
      "text/plain": "<tf.Tensor: shape=(2, 3), dtype=float32, numpy=\narray([[1.8617225 , 1.9989071 , 1.3731294 ],\n       [1.6962495 , 0.14238787, 1.3759277 ]], dtype=float32)>"
     },
     "execution_count": 41,
     "metadata": {},
     "output_type": "execute_result"
    }
   ],
   "source": [
    "# 균등분포가 정규분포와 다른점은 평균근처에서 난수가 생성될 확률이 높은것이 아니라,\n",
    "# (a,b] = (0,2] 구간의 난수들이 고른 확률로 랜덤하게 생성된다.\n",
    "c = tf.random.uniform([2,3],0,2) #tf.random.uniform([2,3], minval=0, maxval=2)\n",
    "c"
   ]
  },
  {
   "cell_type": "markdown",
   "metadata": {},
   "source": [
    "<img src=\"figure/chapter2/2.png\" width=\"400\" height=\"300\">\n",
    "<br>\n",
    "<a href=\"https://en.wikipedia.org/wiki/Discrete_uniform_distribution\">figure2. uniform distribution (균등분포표)</a>"
   ]
  }
 ]
}