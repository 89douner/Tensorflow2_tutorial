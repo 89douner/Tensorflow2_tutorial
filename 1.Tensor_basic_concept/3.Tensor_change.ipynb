{
 "nbformat": 4,
 "nbformat_minor": 2,
 "metadata": {
  "language_info": {
   "name": "python",
   "codemirror_mode": {
    "name": "ipython",
    "version": 3
   }
  },
  "orig_nbformat": 2,
  "file_extension": ".py",
  "mimetype": "text/x-python",
  "name": "python",
  "npconvert_exporter": "python",
  "pygments_lexer": "ipython3",
  "version": 3,
  "kernelspec": {
   "name": "python37664bittensorflow2condadc9141db0871496583b65a75ccf00498",
   "display_name": "Python 3.7.6 64-bit ('tensorflow2': conda)"
  }
 },
 "cells": [
  {
   "cell_type": "code",
   "execution_count": 2,
   "metadata": {},
   "outputs": [],
   "source": [
    "import tensorflow as tf"
   ]
  },
  {
   "cell_type": "markdown",
   "metadata": {},
   "source": [
    "# Tensor 변환\n",
    "1. 생성된 tensor 값을 변환시키는 방법에 대해서 알아본다.<br>\n",
    "2. 생성된 tensor를 조작하는 방법에 대해서 알아본다.<br>"
   ]
  },
  {
   "cell_type": "markdown",
   "metadata": {},
   "source": [
    "<br><br>\n",
    "\n",
    "## 1.Tensor값 변환시키는 방법\n",
    "\n",
    "* tf.zeros_like\n",
    "* tf.ones_like\n",
    "\n"
   ]
  },
  {
   "cell_type": "code",
   "execution_count": 10,
   "metadata": {},
   "outputs": [
    {
     "data": {
      "text/plain": "<tf.Tensor: shape=(2, 2), dtype=float32, numpy=\narray([[2.9200583, 3.1004748],\n       [2.8635175, 3.032741 ]], dtype=float32)>"
     },
     "execution_count": 10,
     "metadata": {},
     "output_type": "execute_result"
    }
   ],
   "source": [
    "a = tf.random.normal([2,2], mean=3, stddev=0.1)\n",
    "a"
   ]
  },
  {
   "cell_type": "markdown",
   "metadata": {},
   "source": [
    "<br><br>\n",
    "\n",
    "### Case1. tf.zeros_like\n",
    "* a 텐서의 모든 값을 0으로 변경"
   ]
  },
  {
   "cell_type": "code",
   "execution_count": 11,
   "metadata": {},
   "outputs": [
    {
     "data": {
      "text/plain": "<tf.Tensor: shape=(2, 2), dtype=float32, numpy=\narray([[0., 0.],\n       [0., 0.]], dtype=float32)>"
     },
     "execution_count": 11,
     "metadata": {},
     "output_type": "execute_result"
    }
   ],
   "source": [
    "b = tf.zeros_like(a)\n",
    "b"
   ]
  },
  {
   "cell_type": "markdown",
   "metadata": {},
   "source": [
    "<br><br>\n",
    "\n",
    "### Case2. tf.ones_like\n",
    "* a 텐서의 모든 값을 1로 변경"
   ]
  },
  {
   "cell_type": "code",
   "execution_count": 12,
   "metadata": {},
   "outputs": [
    {
     "data": {
      "text/plain": "<tf.Tensor: shape=(2, 2), dtype=float32, numpy=\narray([[1., 1.],\n       [1., 1.]], dtype=float32)>"
     },
     "execution_count": 12,
     "metadata": {},
     "output_type": "execute_result"
    }
   ],
   "source": [
    "c = tf.ones_like(a)\n",
    "c"
   ]
  },
  {
   "cell_type": "markdown",
   "metadata": {},
   "source": [
    "<br><br>\n",
    "\n",
    "## 2.Tensor를 조작시키는 방법\n",
    "\n",
    "* Tensor자료형 변환\n",
    "* Tensor shape(or 차원) 변환\n",
    "* Tensor 자르고 붙이기"
   ]
  },
  {
   "cell_type": "markdown",
   "metadata": {},
   "source": [
    "<br>\n"
   ]
  },
  {
   "cell_type": "code",
   "execution_count": 29,
   "metadata": {},
   "outputs": [
    {
     "data": {
      "text/plain": "<tf.Tensor: shape=(), dtype=int32, numpy=2>"
     },
     "execution_count": 29,
     "metadata": {},
     "output_type": "execute_result"
    }
   ],
   "source": [
    "a = tf.constant(2)\n",
    "a"
   ]
  },
  {
   "cell_type": "markdown",
   "metadata": {},
   "source": [
    "<br>\n",
    "### Case1. Tensor 자료형 변환<br>\n",
    "<a href=\"https://www.tensorflow.org/api_docs/python/tf/cast\">자료형 변환 참고 API</a>"
   ]
  },
  {
   "cell_type": "code",
   "execution_count": 30,
   "metadata": {},
   "outputs": [
    {
     "data": {
      "text/plain": "<tf.Tensor: shape=(), dtype=float64, numpy=2.0>"
     },
     "execution_count": 30,
     "metadata": {},
     "output_type": "execute_result"
    }
   ],
   "source": [
    "b = tf.dtypes.cast(a, tf.float64)\n",
    "b"
   ]
  },
  {
   "cell_type": "markdown",
   "metadata": {},
   "source": [
    "<br>\n",
    "\n",
    "### Case2. Tensor shape 변환\n",
    "<br>\n",
    "<a href=\"https://www.tensorflow.org/api_docs/python/tf/reshape\">Shape 변환 참고 API</a>"
   ]
  },
  {
   "cell_type": "code",
   "execution_count": 39,
   "metadata": {},
   "outputs": [
    {
     "data": {
      "text/plain": "<tf.Tensor: shape=(2, 3), dtype=int32, numpy=\narray([[1, 2, 3],\n       [4, 5, 6]])>"
     },
     "execution_count": 39,
     "metadata": {},
     "output_type": "execute_result"
    }
   ],
   "source": [
    "a = tf.constant([[1,2,3],[4,5,6]])\n",
    "a"
   ]
  },
  {
   "cell_type": "code",
   "execution_count": 42,
   "metadata": {},
   "outputs": [
    {
     "data": {
      "text/plain": "<tf.Tensor: shape=(6,), dtype=int32, numpy=array([1, 2, 3, 4, 5, 6])>"
     },
     "execution_count": 42,
     "metadata": {},
     "output_type": "execute_result"
    }
   ],
   "source": [
    "# [2D -> 1D 행렬로 변환]\n",
    "b = tf.reshape(a, [6]) #reshape(텐서, 텐서 shape)\n",
    "b"
   ]
  },
  {
   "cell_type": "code",
   "execution_count": 43,
   "metadata": {},
   "outputs": [
    {
     "data": {
      "text/plain": "<tf.Tensor: shape=(2, 3), dtype=int32, numpy=\narray([[1, 2, 3],\n       [4, 5, 6]])>"
     },
     "execution_count": 43,
     "metadata": {},
     "output_type": "execute_result"
    }
   ],
   "source": [
    "# [1D -> 2D 행렬로 변환]\n",
    "c = tf.reshape(b,[2,3]) \n",
    "c"
   ]
  },
  {
   "cell_type": "code",
   "execution_count": 14,
   "metadata": {},
   "outputs": [
    {
     "name": "stdout",
     "output_type": "stream",
     "text": "현재 텐서의 형태는 (2, 2)\n현재 텐서의 차원은 2\n=======텐서추가=========\n추가된 텐서의 형태는 (2, 1, 2)\n추가된 텐서의 차원은 3\n"
    }
   ],
   "source": [
    "# 크기 1인 차원을 텐서에 추가\n",
    "d = tf.constant([[1,2],[3,4]])\n",
    "print(\"현재 텐서의 형태는 \" + str(d.shape))\n",
    "print(\"현재 텐서의 차원은 \" + str(d.ndim))\n",
    "print(\"=======텐서추가=========\")\n",
    "e = tf.expand_dims(d,1) #만약 (d,2)인 경우에는 --> (2,2,1)이라고 출력\n",
    "print(\"추가된 텐서의 형태는 \" + str(e.shape))\n",
    "print(\"추가된 텐서의 차원은 \" + str(e.ndim))"
   ]
  },
  {
   "cell_type": "code",
   "execution_count": 23,
   "metadata": {},
   "outputs": [
    {
     "name": "stdout",
     "output_type": "stream",
     "text": "현재 텐서의 형태는 (1, 3, 1)\n현재 텐서의 차원은 3\n=======1차원 텐서제거=========\n제거된 텐서의 형태는 (3,)\n제거된 텐서의 차원은 1\n=======1차원 텐서제거(특정위치)=========\n제거된 텐서의 형태는 (3, 1)\n제거된 텐서의 차원은 2\n"
    }
   ],
   "source": [
    "# 크기 1인 차원을 텐서에서 제거\n",
    "f = tf.constant([[[1],[3],[5]]])\n",
    "print(\"현재 텐서의 형태는 \" + str(f.shape))\n",
    "print(\"현재 텐서의 차원은 \" + str(f.ndim))\n",
    "print(\"=======1차원 텐서제거=========\")\n",
    "g = tf.squeeze(f) #만약 (d,2)인 경우에는 --> (2,2,1)이라고 출력\n",
    "print(\"제거된 텐서의 형태는 \" + str(g.shape))\n",
    "print(\"제거된 텐서의 차원은 \" + str(g.ndim))\n",
    "print(\"=======1차원 텐서제거(특정위치)=========\")\n",
    "h = tf.squeeze(f,[0]) #[2]라고 설정할 경우 --> (1,3)=1x3 행렬을 출력\n",
    "print(\"제거된 텐서의 형태는 \" + str(h.shape))\n",
    "print(\"제거된 텐서의 차원은 \" + str(h.ndim))"
   ]
  },
  {
   "cell_type": "markdown",
   "metadata": {},
   "source": [
    "<br>\n",
    "\n",
    "### Case3. Tensor 자르고 붙이기"
   ]
  },
  {
   "cell_type": "code",
   "execution_count": 79,
   "metadata": {},
   "outputs": [
    {
     "name": "stdout",
     "output_type": "stream",
     "text": "tf.Tensor([1 2 3 4 5 6 7 8 9], shape=(9,), dtype=int32)\ntf.Tensor(\n[[1 2 3 4 5 6]\n [7 8 9 0 1 2]], shape=(2, 6), dtype=int32)\ntf.Tensor(\n[[[1 1 1]\n  [2 2 2]]\n\n [[3 3 3]\n  [4 4 4]]\n\n [[5 5 5]\n  [6 6 6]]], shape=(3, 2, 3), dtype=int32)\n"
    }
   ],
   "source": [
    "a = tf.constant([1,2,3,4,5,6,7,8,9])\n",
    "b = tf.constant([[1,2,3,4,5,6],[7,8,9,0,1,2]])\n",
    "c = tf.constant([[[1, 1, 1], [2, 2, 2]],[[3, 3, 3], [4, 4, 4]], [[5, 5, 5], [6, 6, 6]]])\n",
    "print(a)\n",
    "print(b)\n",
    "print(c)"
   ]
  },
  {
   "cell_type": "code",
   "execution_count": 39,
   "metadata": {},
   "outputs": [
    {
     "name": "stdout",
     "output_type": "stream",
     "text": "tf.Tensor([3 4 5], shape=(3,), dtype=int32)\ntf.Tensor([[3 4]], shape=(1, 2), dtype=int32)\ntf.Tensor([[[3 3 3]]], shape=(1, 1, 3), dtype=int32)\ntf.Tensor(\n[[[3 3 3]]\n\n [[5 5 5]]], shape=(2, 1, 3), dtype=int32)\n"
    }
   ],
   "source": [
    "#Tensor 자르기\n",
    "d = tf.slice(a, [2],[3]) # [시작인덱스][끝인덱스]\n",
    "e = tf.slice(b, [0,2],[1,2]) #[0,2]위치를 기점으로 (1x2) 크기(=size) 만큼의 tensor를 잘라내겠다.\n",
    "f = tf.slice(c, [1,0,0],[1,1,3]) #[1,0,0]위치를 시작(원점)이라고 했을때, (1x1x3) 크기(=size)만큼의 텐서를 잘라내겠다. \n",
    "g = tf.slice(c, [1,0,0],[2,1,3]) #[1,0,0]위치를 시작(원점)이라고 했을때, (2x1x3) 크기(=size)만큼의 텐서를 잘라내겠다.\n",
    "print(d)\n",
    "print(e)\n",
    "print(f)\n",
    "print(g)"
   ]
  },
  {
   "cell_type": "code",
   "execution_count": 130,
   "metadata": {},
   "outputs": [
    {
     "name": "stdout",
     "output_type": "stream",
     "text": "===================h결과====================\nsplit 이전 h 텐서\ntf.Tensor([1 2 3 4 5 6 7 8 9], shape=(9,), dtype=int32)\nsplit 이후 h 텐서\n[<tf.Tensor: shape=(3,), dtype=int32, numpy=array([1, 2, 3])>, <tf.Tensor: shape=(3,), dtype=int32, numpy=array([4, 5, 6])>, <tf.Tensor: shape=(3,), dtype=int32, numpy=array([7, 8, 9])>]\n===================i결과=====================\nsplit 이전 i 텐서\ntf.Tensor(\n[[1 2 3 4 5 6]\n [7 8 9 0 1 2]], shape=(2, 6), dtype=int32)\nsplit 이후 i 텐서\n[<tf.Tensor: shape=(1, 6), dtype=int32, numpy=array([[1, 2, 3, 4, 5, 6]])>, <tf.Tensor: shape=(1, 6), dtype=int32, numpy=array([[7, 8, 9, 0, 1, 2]])>]\n===================j결과=====================\nsplit 이전 j 텐서\ntf.Tensor(\n[[1 2 3 4 5 6]\n [7 8 9 0 1 2]], shape=(2, 6), dtype=int32)\nsplit 이후 j 텐서\n[<tf.Tensor: shape=(2, 3), dtype=int32, numpy=\narray([[1, 2, 3],\n       [7, 8, 9]])>, <tf.Tensor: shape=(2, 3), dtype=int32, numpy=\narray([[4, 5, 6],\n       [0, 1, 2]])>]\n===================k결과=====================\nsplit 이전 k 텐서\ntf.Tensor(\n[[[1 1 1]\n  [2 2 2]]\n\n [[3 3 3]\n  [4 4 4]]\n\n [[5 5 5]\n  [6 6 6]]], shape=(3, 2, 3), dtype=int32)\nsplit 이후 k 텐서\n[<tf.Tensor: shape=(3, 2, 1), dtype=int32, numpy=\narray([[[1],\n        [2]],\n\n       [[3],\n        [4]],\n\n       [[5],\n        [6]]])>, <tf.Tensor: shape=(3, 2, 1), dtype=int32, numpy=\narray([[[1],\n        [2]],\n\n       [[3],\n        [4]],\n\n       [[5],\n        [6]]])>, <tf.Tensor: shape=(3, 2, 1), dtype=int32, numpy=\narray([[[1],\n        [2]],\n\n       [[3],\n        [4]],\n\n       [[5],\n        [6]]])>]\n===================l결과=====================\nsplit 이전 l 텐서\ntf.Tensor(\n[[[1 1 1]\n  [2 2 2]]\n\n [[3 3 3]\n  [4 4 4]]\n\n [[5 5 5]\n  [6 6 6]]], shape=(3, 2, 3), dtype=int32)\nsplit 이후 l 텐서\n[<tf.Tensor: shape=(3, 1, 3), dtype=int32, numpy=\narray([[[1, 1, 1]],\n\n       [[3, 3, 3]],\n\n       [[5, 5, 5]]])>, <tf.Tensor: shape=(3, 1, 3), dtype=int32, numpy=\narray([[[2, 2, 2]],\n\n       [[4, 4, 4]],\n\n       [[6, 6, 6]]])>]\n"
    }
   ],
   "source": [
    "#Tensor 분할하기\n",
    "#주의사항 텐서를 나눌 경우, 나누어지는 텐서의 크기가 모두 동일해야한다\n",
    "#ex) [1,2,3,4,5] 텐서가 있는데, 2로 나누면 [1,2],[3,4],[5] 텐서로 나뉘는데, [5] 크기가 다르므로 에러가 발생한다.\n",
    "h = tf.split(a,3) # \"tf.split(a,3,0)과 동일한 코드\" /  a 텐서 모양 = (9) --> (3),(3),(3) --> 열을 기준으로 텐서가 3개로 나뉨 \n",
    "i = tf.split(b,2,0) #b 텐서 모양 = (2,6) --> (1,6),(1,6) --> 행을 기준으로 텐서가 2개로 나뉨\n",
    "j = tf.split(b,2,1) #b 텐서 모양 = (2,6) --> (2,3),(2,3) --> 열을 기준으로 텐서가 2개로 나뉨\n",
    "k = tf.split(c,3,2) #c 텐서 모양 = (3,2,3) --> (3,2,1), (3,2,1), (3,2,1) --> 열을 기준으로 텐서가 3개로 나뉨\n",
    "l = tf.split(c,2,1) #c 텐서 모양 = (3,2,3) --> (3,1,3), (3,1,3) --> 행을 기준으로 텐서가 2개로 나뉨\n",
    "# 결론=세번째 index --> 0:열, 1:행, 2:depth/ 이를 일반화시키면 대수적으로 이해가 가능\n",
    "print(\"===================h결과====================\")\n",
    "print(\"split 이전 h 텐서\")\n",
    "print(a)\n",
    "print(\"split 이후 h 텐서\")\n",
    "print(h)\n",
    "print(\"===================i결과=====================\")\n",
    "print(\"split 이전 i 텐서\")\n",
    "print(b)\n",
    "print(\"split 이후 i 텐서\")\n",
    "print(i)\n",
    "print(\"===================j결과=====================\")\n",
    "print(\"split 이전 j 텐서\")\n",
    "print(b)\n",
    "print(\"split 이후 j 텐서\")\n",
    "print(j)\n",
    "print(\"===================k결과=====================\")\n",
    "print(\"split 이전 k 텐서\")\n",
    "print(c)\n",
    "print(\"split 이후 k 텐서\")\n",
    "print(k)\n",
    "print(\"===================l결과=====================\")\n",
    "print(\"split 이전 l 텐서\")\n",
    "print(c)\n",
    "print(\"split 이후 l 텐서\")\n",
    "print(l)\n"
   ]
  },
  {
   "cell_type": "code",
   "execution_count": 150,
   "metadata": {},
   "outputs": [
    {
     "name": "stdout",
     "output_type": "stream",
     "text": "==============t3결과=============\ntf.Tensor(\n[[ 1  2  3]\n [ 4  5  6]\n [ 7  8  9]\n [10 11 12]], shape=(4, 3), dtype=int32)\n==============t4결과=============\ntf.Tensor(\n[[ 1  2  3  7  8  9]\n [ 4  5  6 10 11 12]], shape=(2, 6), dtype=int32)\n"
    }
   ],
   "source": [
    "#Tensor 붙이기\n",
    "#입력할 텐서들의 차원은 모두 동일해야한다.\n",
    "t1 = [[1, 2, 3], [4, 5, 6]] #shape: 2x3\n",
    "t2 = [[7, 8, 9], [10, 11, 12]] #shape: 2x3\n",
    "t3 = tf.concat([t1, t2],0)  #(2x3) 2개 --concat--> (4x3) \n",
    "t4 = tf.concat([t1, t2],1) #(2x3) 2개 --concat--> (2x6) \n",
    "print(\"==============t3결과=============\")\n",
    "print(t3)\n",
    "print(\"==============t4결과=============\")\n",
    "print(t4)"
   ]
  },
  {
   "cell_type": "code",
   "execution_count": 154,
   "metadata": {},
   "outputs": [
    {
     "name": "stdout",
     "output_type": "stream",
     "text": "==============t7결과=============\ntf.Tensor(\n[[[ 1  2]\n  [ 3  4]]\n\n [[ 5  6]\n  [ 7  8]]\n\n [[ 9 10]\n  [11 12]]\n\n [[13 14]\n  [15 16]]], shape=(4, 2, 2), dtype=int32)\n==============t8결과=============\ntf.Tensor(\n[[[ 1  2]\n  [ 3  4]\n  [ 9 10]\n  [11 12]]\n\n [[ 5  6]\n  [ 7  8]\n  [13 14]\n  [15 16]]], shape=(2, 4, 2), dtype=int32)\n==============t9결과=============\ntf.Tensor(\n[[[ 1  2  9 10]\n  [ 3  4 11 12]]\n\n [[ 5  6 13 14]\n  [ 7  8 15 16]]], shape=(2, 2, 4), dtype=int32)\n"
    }
   ],
   "source": [
    "#Tensor 붙이기\n",
    "#입력할 텐서들의 차원은 모두 동일해야한다.\n",
    "t5 = [[[1,2],[3,4]],[[5,6],[7,8]]] #shape: 2x2x2\n",
    "t6 = [[[9,10],[11,12]],[[13,14],[15,16]]] #shape: 2x2x2\n",
    "t7 = tf.concat([t5,t6],0) #(2x2x2) 2개 --concat--> (4x2x2)\n",
    "t8 = tf.concat([t5,t6],1) #(2x2x2) 2개 --concat--> (2x4x2)\n",
    "t9 = tf.concat([t5,t6],2) #(2x2x2) 2개 --concat-->(2x2x4)\n",
    "print(\"==============t7결과=============\")\n",
    "print(t7)\n",
    "print(\"==============t8결과=============\")\n",
    "print(t8)\n",
    "print(\"==============t9결과=============\")\n",
    "print(t9)"
   ]
  },
  {
   "cell_type": "code",
   "execution_count": null,
   "metadata": {},
   "outputs": [],
   "source": []
  }
 ]
}