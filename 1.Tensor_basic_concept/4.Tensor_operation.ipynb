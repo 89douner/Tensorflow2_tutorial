{
 "nbformat": 4,
 "nbformat_minor": 2,
 "metadata": {
  "language_info": {
   "name": "python",
   "codemirror_mode": {
    "name": "ipython",
    "version": 3
   },
   "version": "3.7.6-final"
  },
  "orig_nbformat": 2,
  "file_extension": ".py",
  "mimetype": "text/x-python",
  "name": "python",
  "npconvert_exporter": "python",
  "pygments_lexer": "ipython3",
  "version": 3,
  "kernelspec": {
   "name": "python37664bittensorflow2condadc9141db0871496583b65a75ccf00498",
   "display_name": "Python 3.7.6 64-bit ('tensorflow2': conda)"
  }
 },
 "cells": [
  {
   "cell_type": "code",
   "execution_count": 33,
   "metadata": {},
   "outputs": [],
   "source": [
    "import tensorflow as tf"
   ]
  },
  {
   "cell_type": "markdown",
   "metadata": {},
   "source": [
    "# Tensor 연산\n",
    "<br>\n",
    "\n",
    "1.산술연산<br>\n",
    "2.논리연산<br>\n",
    "3.기타연산<br>\n",
    "\n",
    "<br>\n",
    "<a href=\"https://www.tensorflow.org/api_docs/python/tf/math\">참고링크</a>\n",
    "<br>\n",
    "<a href=\"https://www.tensorflow.org/api_docs/python/tf/linalg/matmul\">행렬연산 참고링크</a>\n",
    "<br>"
   ]
  },
  {
   "cell_type": "markdown",
   "metadata": {},
   "source": [
    "### case1.산술연산\n",
    "* point(element-wise) operation\n",
    "    * add\n",
    "    * subtract\n",
    "    * multiply\n",
    "    * divide\n"
   ]
  },
  {
   "cell_type": "code",
   "execution_count": 49,
   "metadata": {},
   "outputs": [],
   "source": [
    "a, b = tf.constant([2.2]), tf.constant([-1.0])\n",
    "c, d = tf.constant([1.1,2.2]), tf.constant([-1.0])"
   ]
  },
  {
   "cell_type": "code",
   "execution_count": 35,
   "metadata": {},
   "outputs": [
    {
     "data": {
      "text/plain": "<tf.Tensor: shape=(1,), dtype=float32, numpy=array([1.2], dtype=float32)>"
     },
     "execution_count": 35,
     "metadata": {},
     "output_type": "execute_result"
    }
   ],
   "source": [
    "#add(덧셈)\n",
    "c1 = tf.add(a,b)\n",
    "c1"
   ]
  },
  {
   "cell_type": "code",
   "execution_count": 36,
   "metadata": {},
   "outputs": [
    {
     "data": {
      "text/plain": "<tf.Tensor: shape=(1,), dtype=float32, numpy=array([3.2], dtype=float32)>"
     },
     "execution_count": 36,
     "metadata": {},
     "output_type": "execute_result"
    }
   ],
   "source": [
    "#subtract(빼기)\n",
    "c2 = tf.subtract(a,b)\n",
    "c2"
   ]
  },
  {
   "cell_type": "code",
   "execution_count": 37,
   "metadata": {},
   "outputs": [
    {
     "name": "stdout",
     "output_type": "stream",
     "text": "tf.Tensor([-2.2], shape=(1,), dtype=float32)\ntf.Tensor([-1.1 -2.2], shape=(2,), dtype=float32)\n"
    }
   ],
   "source": [
    "#multiply(곱셈))\n",
    "c3 = tf.multiply(a,b)\n",
    "c4 = tf.multiply(c,d)\n",
    "print(c3)\n",
    "print(c4)"
   ]
  },
  {
   "cell_type": "code",
   "execution_count": 38,
   "metadata": {},
   "outputs": [
    {
     "name": "stdout",
     "output_type": "stream",
     "text": "tf.Tensor([-2.2], shape=(1,), dtype=float32)\ntf.Tensor([-1.1 -2.2], shape=(2,), dtype=float32)\n"
    }
   ],
   "source": [
    "#divide(나눗셈)\n",
    "c5 = tf.divide(a,b)\n",
    "c6 = tf.divide(c,d)\n",
    "print(c5)\n",
    "print(c6)"
   ]
  },
  {
   "cell_type": "markdown",
   "metadata": {},
   "source": [
    "<br>\n",
    "\n",
    "* matrix operation\n",
    "    * point(element)-wise product\n",
    "    * dot product"
   ]
  },
  {
   "cell_type": "code",
   "execution_count": 39,
   "metadata": {},
   "outputs": [],
   "source": [
    "a, b = tf.constant([1.1, 2.2]), tf.constant([-1.0, -2.0])\n",
    "c, d = tf.constant([[1.1, 2.2]]), tf.constant([[-1.0],[-2.0]])"
   ]
  },
  {
   "cell_type": "code",
   "execution_count": 40,
   "metadata": {},
   "outputs": [
    {
     "name": "stdout",
     "output_type": "stream",
     "text": "tf.Tensor([[1.1 2.2]], shape=(1, 2), dtype=float32) tf.Tensor(\n[[-1.]\n [-2.]], shape=(2, 1), dtype=float32)\n"
    }
   ],
   "source": [
    "#point-wise product\n",
    "c7 = tf.multiply(a,b)\n",
    "c7\n",
    "print(c,d)"
   ]
  },
  {
   "cell_type": "code",
   "execution_count": 41,
   "metadata": {},
   "outputs": [
    {
     "name": "stdout",
     "output_type": "stream",
     "text": "tf.Tensor([[-5.5]], shape=(1, 1), dtype=float32)\ntf.Tensor([[6.05]], shape=(1, 1), dtype=float32)\n"
    }
   ],
   "source": [
    "#dot product\n",
    "c8 = tf.matmul(c,d)\n",
    "c9 = tf.matmul(c,tf.transpose(c))\n",
    "print(c8)\n",
    "print(c9)"
   ]
  },
  {
   "cell_type": "markdown",
   "metadata": {},
   "source": [
    "<br><br>\n",
    "\n",
    "### Case2.논리연산자\n",
    "\n",
    "* and\n",
    "* or\n",
    "* xor\n",
    "* not"
   ]
  },
  {
   "cell_type": "code",
   "execution_count": 42,
   "metadata": {},
   "outputs": [],
   "source": [
    "x = tf.constant([False, False, True, True])\n",
    "y = tf.constant([False, True, False, True])"
   ]
  },
  {
   "cell_type": "code",
   "execution_count": 43,
   "metadata": {},
   "outputs": [
    {
     "name": "stdout",
     "output_type": "stream",
     "text": "d1결과 입니다: tf.Tensor([False False False  True], shape=(4,), dtype=bool)\nd2결과 입니다: tf.Tensor([False  True  True  True], shape=(4,), dtype=bool)\nd3결과 입니다: tf.Tensor([False  True  True False], shape=(4,), dtype=bool)\nd4결과 입니다: tf.Tensor([ True  True False False], shape=(4,), dtype=bool)\n"
    }
   ],
   "source": [
    "d1 = tf.logical_and(x,y) #비교 대상이 모두 true 인경우: true\n",
    "d2 = tf.logical_or(x,y) #비교 대상들 중 하나라도 true인경우: true\n",
    "d3 = tf.math.logical_xor(x,y) #비교 대상들이 모두 false, 모두 true가 아닌경우: true/ tf.logical_xor(x,y) --> math 추가 안해주면 error 메시지 발생\n",
    "d4 = tf.logical_not(x) #true값을 false로, false값을 true로 변경\n",
    "\n",
    "print(\"d1결과 입니다: \"+str(d1))\n",
    "print(\"d2결과 입니다: \"+str(d2))\n",
    "print(\"d3결과 입니다: \"+str(d3))\n",
    "print(\"d4결과 입니다: \"+str(d4))"
   ]
  },
  {
   "cell_type": "markdown",
   "metadata": {},
   "source": [
    "<br><br>\n",
    "\n",
    "### Case4.기타연산\n",
    "* pow\n",
    "* exp\n",
    "* log\n",
    "* square\n",
    "* sqrt"
   ]
  },
  {
   "cell_type": "code",
   "execution_count": 53,
   "metadata": {},
   "outputs": [],
   "source": [
    "a = tf.constant([[2,2,2],[3,3,3]])"
   ]
  },
  {
   "cell_type": "code",
   "execution_count": 45,
   "metadata": {},
   "outputs": [
    {
     "data": {
      "text/plain": "<tf.Tensor: shape=(2, 3), dtype=int32, numpy=\narray([[ 8,  8,  8],\n       [27, 27, 27]])>"
     },
     "execution_count": 45,
     "metadata": {},
     "output_type": "execute_result"
    }
   ],
   "source": [
    "#pow (제곱연산) -> y=a^3 -> element(point) wise\n",
    "b = tf.pow(a,3)\n",
    "b"
   ]
  },
  {
   "cell_type": "code",
   "execution_count": 46,
   "metadata": {},
   "outputs": [
    {
     "data": {
      "text/plain": "<tf.Tensor: shape=(2, 3), dtype=float32, numpy=\narray([[ 7.389056,  7.389056,  7.389056],\n       [20.085537, 20.085537, 20.085537]], dtype=float32)>"
     },
     "execution_count": 46,
     "metadata": {},
     "output_type": "execute_result"
    }
   ],
   "source": [
    "#exp (지수값) --> y=e^x\n",
    "#정수형태의 값들을 exp 적용시 error 발생\n",
    "c = tf.cast(a, tf.float32)\n",
    "d = tf.exp(c)\n",
    "d"
   ]
  },
  {
   "cell_type": "code",
   "execution_count": 47,
   "metadata": {},
   "outputs": [
    {
     "data": {
      "text/plain": "<tf.Tensor: shape=(2, 3), dtype=float32, numpy=\narray([[0.6931472, 0.6931472, 0.6931472],\n       [1.0986123, 1.0986123, 1.0986123]], dtype=float32)>"
     },
     "execution_count": 47,
     "metadata": {},
     "output_type": "execute_result"
    }
   ],
   "source": [
    "#log (로그값) --> y=logex -> 자연로그 값; e는 밑수\n",
    "#정수형태의 값들을 exp 적용시 error 발생\n",
    "e = tf.cast(a, tf.float32)\n",
    "f = tf.math.log(e)\n",
    "f"
   ]
  },
  {
   "cell_type": "code",
   "execution_count": 54,
   "metadata": {},
   "outputs": [
    {
     "data": {
      "text/plain": "<tf.Tensor: shape=(2, 3), dtype=int32, numpy=\narray([[4, 4, 4],\n       [9, 9, 9]])>"
     },
     "execution_count": 54,
     "metadata": {},
     "output_type": "execute_result"
    }
   ],
   "source": [
    "#square -> y=x^2 -> 제곱값\n",
    "g = tf.square(a)\n",
    "g"
   ]
  },
  {
   "cell_type": "code",
   "execution_count": 55,
   "metadata": {},
   "outputs": [
    {
     "data": {
      "text/plain": "<tf.Tensor: shape=(2, 3), dtype=float32, numpy=\narray([[1.4142135, 1.4142135, 1.4142135],\n       [1.7320508, 1.7320508, 1.7320508]], dtype=float32)>"
     },
     "execution_count": 55,
     "metadata": {},
     "output_type": "execute_result"
    }
   ],
   "source": [
    "#sqrt -> 제곱근값\n",
    "#정수형태의 값들을 exp 적용시 error 발생\n",
    "h = tf.cast(a, tf.float32)\n",
    "i = tf.sqrt(h)\n",
    "i"
   ]
  },
  {
   "cell_type": "code",
   "execution_count": null,
   "metadata": {},
   "outputs": [],
   "source": []
  }
 ]
}